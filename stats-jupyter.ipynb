{
 "cells": [
  {
   "cell_type": "markdown",
   "id": "e70e7980",
   "metadata": {},
   "source": [
    "#Import Packages"
   ]
  },
  {
   "cell_type": "code",
   "execution_count": 2,
   "id": "be8ebe1b",
   "metadata": {},
   "outputs": [
    {
     "ename": "ModuleNotFoundError",
     "evalue": "No module named 'pandas'",
     "output_type": "error",
     "traceback": [
      "\u001b[1;31m---------------------------------------------------------------------------\u001b[0m",
      "\u001b[1;31mModuleNotFoundError\u001b[0m                       Traceback (most recent call last)",
      "Cell \u001b[1;32mIn[2], line 1\u001b[0m\n\u001b[1;32m----> 1\u001b[0m \u001b[38;5;28;01mimport\u001b[39;00m\u001b[38;5;250m \u001b[39m\u001b[38;5;21;01mpandas\u001b[39;00m\u001b[38;5;250m \u001b[39m\u001b[38;5;28;01mas\u001b[39;00m\u001b[38;5;250m \u001b[39m\u001b[38;5;21;01mpd\u001b[39;00m\n\u001b[0;32m      2\u001b[0m \u001b[38;5;28;01mimport\u001b[39;00m\u001b[38;5;250m \u001b[39m\u001b[38;5;21;01mscipy\u001b[39;00m\u001b[38;5;21;01m.\u001b[39;00m\u001b[38;5;21;01mstats\u001b[39;00m\u001b[38;5;250m \u001b[39m\u001b[38;5;28;01mas\u001b[39;00m\u001b[38;5;250m \u001b[39m\u001b[38;5;21;01mstats\u001b[39;00m\n\u001b[0;32m      3\u001b[0m \u001b[38;5;28;01mimport\u001b[39;00m\u001b[38;5;250m \u001b[39m\u001b[38;5;21;01mseaborn\u001b[39;00m\u001b[38;5;250m \u001b[39m\u001b[38;5;28;01mas\u001b[39;00m\u001b[38;5;250m \u001b[39m\u001b[38;5;21;01msns\u001b[39;00m\n",
      "\u001b[1;31mModuleNotFoundError\u001b[0m: No module named 'pandas'"
     ]
    }
   ],
   "source": [
    "import pandas as pd\n",
    "import scipy.stats as stats\n",
    "import seaborn as sns\n",
    "import matplotlib.pyplot as pltt\n"
   ]
  },
  {
   "cell_type": "markdown",
   "id": "9b4dcd8d",
   "metadata": {},
   "source": [
    "#Data Reading and Processing"
   ]
  },
  {
   "cell_type": "code",
   "execution_count": null,
   "id": "27c7b33f",
   "metadata": {},
   "outputs": [],
   "source": [
    "disease = pd.read_csv(\"animal_disease_dataset.csv\", index_col=0)\n",
    "\n",
    "symptom_relate = pd.melt(adisease, \n",
    "                       id_vars=[\"Disease\"], \n",
    "                       value_vars=[\"Symptom 1\", \"Symptom 2\", \"Symptom 3\"],\n",
    "                       var_name=\"Symptom_Position\", \n",
    "                       value_name=\"Symptom\")"
   ]
  },
  {
   "cell_type": "markdown",
   "id": "34381f09",
   "metadata": {},
   "source": [
    "#Chi-Square Test of Independence"
   ]
  },
  {
   "cell_type": "code",
   "execution_count": null,
   "id": "5ee8e47e",
   "metadata": {},
   "outputs": [],
   "source": [
    "# Create a contingency table:\n",
    "# Rows = symptoms, Columns = diseases, Values = counts\n",
    "contingency_table = pd.crosstab(symptom_relate[\"Symptom\"], symptom_relate[\"Disease\"])\n",
    "\n",
    "# Run the chi-square test of independence\n",
    "chi2_stat, p_value, dof, expected = stats.chi2_contingency(contingency_table)\n",
    "\n",
    "# Print the results\n",
    "print(\"Chi-square Statistic:\", round(chi2_stat, 2))\n",
    "print(\"Degrees of Freedom:\", dof)\n",
    "print(\"P-value:\", round(p_value, 5))"
   ]
  }
 ],
 "metadata": {
  "kernelspec": {
   "display_name": "pytorch_env",
   "language": "python",
   "name": "python3"
  },
  "language_info": {
   "codemirror_mode": {
    "name": "ipython",
    "version": 3
   },
   "file_extension": ".py",
   "mimetype": "text/x-python",
   "name": "python",
   "nbconvert_exporter": "python",
   "pygments_lexer": "ipython3",
   "version": "3.10.15"
  }
 },
 "nbformat": 4,
 "nbformat_minor": 5
}
